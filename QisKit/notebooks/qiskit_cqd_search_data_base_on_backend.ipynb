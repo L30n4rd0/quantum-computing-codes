{
 "cells": [
  {
   "cell_type": "code",
   "execution_count": 70,
   "metadata": {},
   "outputs": [],
   "source": [
    "# Import Qiskit Terra\n",
    "from qiskit import QuantumCircuit, ClassicalRegister, QuantumRegister\n",
    "from qiskit import execute, IBMQ\n",
    "from qiskit.tools.monitor import job_monitor\n",
    "from Qconfig import APItoken\n",
    "from utils import print_dict, print_list, list_backend_information_status, print_job_execution_information\n",
    "from qiskit.tools.visualization import plot_histogram\n"
   ]
  },
  {
   "cell_type": "code",
   "execution_count": 71,
   "metadata": {},
   "outputs": [
    {
     "name": "stdout",
     "output_type": "stream",
     "text": [
      "\n",
      "Loading account ...\n"
     ]
    }
   ],
   "source": [
    "\n",
    "\"\"\"\n",
    "Set your API Token.\n",
    "You can get it from https://quantumexperience.ng.bluemix.net/qx/account,\n",
    "looking for \"Personal Access Token\" section.\n",
    "\"\"\"\n",
    "QX_TOKEN = APItoken\n",
    "\n",
    "\"\"\"\n",
    "Authenticate with the IBM Q API in order to use online devices.\n",
    "You need the API Token.\n",
    "The account information is need to be stored locally on disk only once.\n",
    "To store account information locally on disk, uncomment the next line.\n",
    "\"\"\"\n",
    "# print(\"Storing account information locally on disk ...\")\n",
    "# IBMQ.save_account(QX_TOKEN)\n",
    "\n",
    "# The next line is mandatory to load the account infos stored\n",
    "print(\"\\nLoading account ...\")\n",
    "IBMQ.load_accounts()\n",
    "# print_dict(IBMQ.stored_accounts()[0])"
   ]
  },
  {
   "cell_type": "code",
   "execution_count": 72,
   "metadata": {
    "scrolled": true
   },
   "outputs": [
    {
     "name": "stdout",
     "output_type": "stream",
     "text": [
      "\n",
      "Creating the circuit ...\n"
     ]
    },
    {
     "data": {
      "text/plain": [
       "<qiskit.circuit.instructionset.InstructionSet at 0x7fccb5e1cef0>"
      ]
     },
     "execution_count": 72,
     "metadata": {},
     "output_type": "execute_result"
    }
   ],
   "source": [
    "\"\"\"\n",
    "########### CREATING THE CIRCUIT ##########\n",
    "\"\"\"\n",
    "\n",
    "print(\"\\nCreating the circuit ...\")\n",
    "\n",
    "# Numbers of registers that will be used in the circuit\n",
    "numbers_of_registers = 3\n",
    "\n",
    "# Create a Quantum Register with 2 qubits.\n",
    "q = QuantumRegister(numbers_of_registers)\n",
    "# Create a Classical Register with 2 bits.\n",
    "c = ClassicalRegister(numbers_of_registers)\n",
    "# Create a Quantum Circuit\n",
    "qc = QuantumCircuit(q, c)\n",
    "\n",
    "# Add a H gate on all qubits, putting in superposition (divider).\n",
    "qc.h(q)\n",
    "\n",
    "# Applying oracle\n",
    "qc.h(q[0])\n",
    "qc.ccx(q[2], q[1], q[0])\n",
    "qc.h(q[0])\n",
    "\n",
    "# Applying controlled_u_1\n",
    "qc.z(q[0])\n",
    "\n",
    "# Add a H gate on qubit 0, putting this qubit in superposition (combiner).\n",
    "qc.h(q[0])\n",
    "\n",
    "# Add a Measure gate to see the state.\n",
    "qc.measure(q, c)"
   ]
  },
  {
   "cell_type": "markdown",
   "metadata": {},
   "source": [
    "## Selecionando o backend"
   ]
  },
  {
   "cell_type": "code",
   "execution_count": 73,
   "metadata": {},
   "outputs": [
    {
     "name": "stdout",
     "output_type": "stream",
     "text": [
      "\n",
      "Getting backend ...\n"
     ]
    }
   ],
   "source": [
    "\"\"\"\n",
    "Selecting backend of available devices.\n",
    "\"\"\"\n",
    "print(\"\\nGetting backend ...\")\n",
    "backend_ibmq = IBMQ.get_backend('ibmqx4')"
   ]
  },
  {
   "cell_type": "markdown",
   "metadata": {},
   "source": [
    "## Primeira execução"
   ]
  },
  {
   "cell_type": "code",
   "execution_count": 74,
   "metadata": {
    "scrolled": true
   },
   "outputs": [
    {
     "name": "stdout",
     "output_type": "stream",
     "text": [
      "\n",
      "Executing ...\n"
     ]
    }
   ],
   "source": [
    "\"\"\"\n",
    "Compile and run\n",
    "\"\"\"\n",
    "print(\"\\nExecuting ...\")\n",
    "job_ibmq = execute(qc, backend=backend_ibmq, shots=2*1024)\n",
    "\n",
    "# print(\"\\nGo to job monitor\")\n",
    "# job_monitor(job_ibmq)\n",
    "# print(\"\\nLeft of the job monitor\")"
   ]
  },
  {
   "cell_type": "code",
   "execution_count": 75,
   "metadata": {},
   "outputs": [
    {
     "name": "stdout",
     "output_type": "stream",
     "text": [
      "\n",
      "\n",
      "Job id: 5cb77b70e80ab8005d957b1f\n",
      "State: 0 seconds\n",
      "Status: QUEUED\n",
      "Queue position: 5\n",
      ".......................................\n",
      "\n",
      "\n",
      "Job id: 5cb77b70e80ab8005d957b1f\n",
      "State: 60 seconds\n",
      "Status: QUEUED\n",
      "Queue position: 3\n",
      ".......................................\n",
      "\n",
      "\n",
      "Job id: 5cb77b70e80ab8005d957b1f\n",
      "State: 120 seconds\n",
      "Status: QUEUED\n",
      "Queue position: 2\n",
      ".......................................\n",
      "\n",
      "\n",
      "Job id: 5cb77b70e80ab8005d957b1f\n",
      "State: 180 seconds\n",
      "Status: QUEUED\n",
      "Queue position: 1\n",
      ".......................................\n",
      "\n",
      "Execution final status: DONE\n"
     ]
    }
   ],
   "source": [
    "\"\"\"\n",
    "Getting execution information\n",
    "\"\"\"\n",
    "print_job_execution_information(job_ibmq)"
   ]
  },
  {
   "cell_type": "code",
   "execution_count": 76,
   "metadata": {},
   "outputs": [
    {
     "name": "stdout",
     "output_type": "stream",
     "text": [
      "\n",
      "Go to job result\n",
      "\n",
      "RESULTS\n",
      "Result(backend_name='ibmqx4', backend_version='1.3.0', date=datetime.datetime(2019, 4, 17, 19, 19, 40, tzinfo=tzutc()), execution_id='b4f04b46-6145-11e9-8183-305a3a7b72bd', header=Obj(backend_name='ibmqx4'), job_id='unknown', qobj_id='0b1c364d-d822-4c96-8107-901d3551f032', results=[ExperimentResult(data=ExperimentResultData(counts=Obj(0x0=158, 0x1=469, 0x2=67, 0x3=235, 0x4=204, 0x5=467, 0x6=350, 0x7=98)), header=Obj(clbit_labels=[['c6', 0], ['c6', 1], ['c6', 2]], compiled_circuit_qasm='OPENQASM 2.0;\\ninclude \"qelib1.inc\";\\nqreg q[5];\\ncreg c6[3];\\nu2(0,pi) q[2];\\nu2(0,pi) q[1];\\nu2(0,pi) q[0];\\ncx q[1],q[0];\\nu1(-pi/4) q[0];\\ncx q[2],q[0];\\nu1(pi/4) q[0];\\ncx q[1],q[0];\\nu1(pi/4) q[1];\\nu1(-pi/4) q[0];\\ncx q[2],q[0];\\ncx q[2],q[1];\\nu1(pi/4) q[2];\\nu1(-pi/4) q[1];\\ncx q[2],q[1];\\nu2(0,17*pi/4) q[0];\\nbarrier q[0],q[1],q[2];\\nmeasure q[2] -> c6[2];\\nmeasure q[1] -> c6[1];\\nmeasure q[0] -> c6[0];\\n', creg_sizes=[['c6', 3]], memory_slots=3, n_qubits=5, name='circuit16', qreg_sizes=[['q', 5]], qubit_labels=[['q', 0], ['q', 1], ['q', 2], ['q', 3], ['q', 4]]), shots=2048, success=True)], status='Successful completion', success=True)\n",
      "\n",
      "result_counts\n",
      "{'101': 467, '010': 67, '001': 469, '110': 350, '100': 204, '111': 98, '000': 158, '011': 235}\n",
      "\n",
      "\n",
      "101 : 467\n",
      "010 : 67\n",
      "001 : 469\n",
      "110 : 350\n",
      "100 : 204\n",
      "111 : 98\n",
      "000 : 158\n",
      "011 : 235\n"
     ]
    }
   ],
   "source": [
    "\"\"\"\n",
    "Getting results\n",
    "\"\"\"\n",
    "print(\"\\nGo to job result\")\n",
    "result_ibmq = job_ibmq.result()\n",
    "  \n",
    "# Show the results.\n",
    "print(\"\\nRESULTS\")\n",
    "print(result_ibmq)\n",
    "        \n",
    "print(\"\\nresult_counts\")\n",
    "print(result_ibmq.get_counts())\n",
    "\n",
    "execution_counts_1 = result_ibmq.get_counts()\n",
    "\n",
    "print(\"\\n\")\n",
    "print_dict(execution_counts_1)"
   ]
  },
  {
   "cell_type": "markdown",
   "metadata": {},
   "source": [
    "## Segunda execução"
   ]
  },
  {
   "cell_type": "code",
   "execution_count": 77,
   "metadata": {},
   "outputs": [
    {
     "name": "stdout",
     "output_type": "stream",
     "text": [
      "\n",
      "Executing ...\n"
     ]
    }
   ],
   "source": [
    "\"\"\"\n",
    "Compile and run\n",
    "\"\"\"\n",
    "print(\"\\nExecuting ...\")\n",
    "job_ibmq = execute(qc, backend=backend_ibmq, shots=2*1024)\n",
    "\n",
    "# print(\"\\nGo to job monitor\")\n",
    "# job_monitor(job_ibmq)\n",
    "# print(\"\\nLeft of the job monitor\")"
   ]
  },
  {
   "cell_type": "code",
   "execution_count": 78,
   "metadata": {},
   "outputs": [
    {
     "name": "stdout",
     "output_type": "stream",
     "text": [
      "\n",
      "\n",
      "Job id: 5cb77c6f122807005bfd0999\n",
      "State: 0 seconds\n",
      "Status: QUEUED\n",
      "Queue position: 5\n",
      ".......................................\n",
      "\n",
      "\n",
      "Job id: 5cb77c6f122807005bfd0999\n",
      "State: 60 seconds\n",
      "Status: QUEUED\n",
      "Queue position: 5\n",
      ".......................................\n",
      "\n",
      "\n",
      "Job id: 5cb77c6f122807005bfd0999\n",
      "State: 120 seconds\n",
      "Status: QUEUED\n",
      "Queue position: 5\n",
      ".......................................\n",
      "\n",
      "\n",
      "Job id: 5cb77c6f122807005bfd0999\n",
      "State: 180 seconds\n",
      "Status: QUEUED\n",
      "Queue position: 2\n",
      ".......................................\n",
      "\n",
      "\n",
      "Job id: 5cb77c6f122807005bfd0999\n",
      "State: 240 seconds\n",
      "Status: QUEUED\n",
      "Queue position: 2\n",
      ".......................................\n",
      "\n",
      "Execution final status: DONE\n"
     ]
    }
   ],
   "source": [
    "\"\"\"\n",
    "Getting execution information\n",
    "\"\"\"\n",
    "print_job_execution_information(job_ibmq)"
   ]
  },
  {
   "cell_type": "code",
   "execution_count": 79,
   "metadata": {
    "scrolled": false
   },
   "outputs": [
    {
     "name": "stdout",
     "output_type": "stream",
     "text": [
      "\n",
      "Go to job result\n",
      "\n",
      "RESULTS\n",
      "Result(backend_name='ibmqx4', backend_version='1.3.0', date=datetime.datetime(2019, 4, 17, 19, 25, 11, tzinfo=tzutc()), execution_id='79dbe15e-6146-11e9-ba76-305a3a7b72bd', header=Obj(backend_name='ibmqx4'), job_id='unknown', qobj_id='c36ca983-4aa4-45bc-87c6-5efcc54afe7c', results=[ExperimentResult(data=ExperimentResultData(counts=Obj(0x0=142, 0x1=431, 0x2=66, 0x3=241, 0x4=198, 0x5=507, 0x6=362, 0x7=101)), header=Obj(clbit_labels=[['c6', 0], ['c6', 1], ['c6', 2]], compiled_circuit_qasm='OPENQASM 2.0;\\ninclude \"qelib1.inc\";\\nqreg q[5];\\ncreg c6[3];\\nu2(0,pi) q[2];\\nu2(0,pi) q[1];\\nu2(0,pi) q[0];\\ncx q[1],q[0];\\nu1(-pi/4) q[0];\\ncx q[2],q[0];\\nu1(pi/4) q[0];\\ncx q[1],q[0];\\nu1(pi/4) q[1];\\nu1(-pi/4) q[0];\\ncx q[2],q[0];\\ncx q[2],q[1];\\nu1(pi/4) q[2];\\nu1(-pi/4) q[1];\\ncx q[2],q[1];\\nu2(0,17*pi/4) q[0];\\nbarrier q[0],q[1],q[2];\\nmeasure q[2] -> c6[2];\\nmeasure q[1] -> c6[1];\\nmeasure q[0] -> c6[0];\\n', creg_sizes=[['c6', 3]], memory_slots=3, n_qubits=5, name='circuit16', qreg_sizes=[['q', 5]], qubit_labels=[['q', 0], ['q', 1], ['q', 2], ['q', 3], ['q', 4]]), shots=2048, success=True)], status='Successful completion', success=True)\n",
      "\n",
      "result_counts\n",
      "{'101': 507, '010': 66, '001': 431, '110': 362, '100': 198, '111': 101, '000': 142, '011': 241}\n",
      "\n",
      "\n",
      "101 : 507\n",
      "010 : 66\n",
      "001 : 431\n",
      "110 : 362\n",
      "100 : 198\n",
      "111 : 101\n",
      "000 : 142\n",
      "011 : 241\n"
     ]
    }
   ],
   "source": [
    "\"\"\"\n",
    "Getting results\n",
    "\"\"\"\n",
    "print(\"\\nGo to job result\")\n",
    "result_ibmq = job_ibmq.result()\n",
    "  \n",
    "# Show the results.\n",
    "print(\"\\nRESULTS\")\n",
    "print(result_ibmq)\n",
    "        \n",
    "print(\"\\nresult_counts\")\n",
    "print(result_ibmq.get_counts())\n",
    "\n",
    "execution_counts_2 = result_ibmq.get_counts()\n",
    "\n",
    "print(\"\\n\")\n",
    "print_dict(execution_counts_2)"
   ]
  },
  {
   "cell_type": "markdown",
   "metadata": {},
   "source": [
    "## Legendas para o gráfico"
   ]
  },
  {
   "cell_type": "code",
   "execution_count": 80,
   "metadata": {
    "scrolled": true
   },
   "outputs": [],
   "source": [
    "# Plot results with legend\n",
    "# legend = ['Primeira execução', 'Segunda execução']"
   ]
  },
  {
   "cell_type": "markdown",
   "metadata": {},
   "source": [
    "## Gerando o gráfico"
   ]
  },
  {
   "cell_type": "code",
   "execution_count": 81,
   "metadata": {
    "scrolled": false
   },
   "outputs": [],
   "source": [
    "# Plot graph\n",
    "# plot_histogram(\n",
    "#     [execution_counts_1, execution_counts_2], \n",
    "#     legend=legend, \n",
    "#     figsize=(15,5), \n",
    "#     bar_labels=True\n",
    "# )"
   ]
  }
 ],
 "metadata": {
  "kernelspec": {
   "display_name": "Python 3",
   "language": "python",
   "name": "python3"
  },
  "language_info": {
   "codemirror_mode": {
    "name": "ipython",
    "version": 3
   },
   "file_extension": ".py",
   "mimetype": "text/x-python",
   "name": "python",
   "nbconvert_exporter": "python",
   "pygments_lexer": "ipython3",
   "version": "3.7.3"
  }
 },
 "nbformat": 4,
 "nbformat_minor": 2
}
