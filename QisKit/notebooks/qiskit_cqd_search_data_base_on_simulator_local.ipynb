{
 "cells": [
  {
   "cell_type": "code",
   "execution_count": 13,
   "metadata": {},
   "outputs": [],
   "source": [
    "# Import the Qiskit SDK\n",
    "from qiskit import QuantumCircuit, ClassicalRegister, QuantumRegister\n",
    "from qiskit import execute, Aer\n",
    "from qiskit.tools.visualization import plot_histogram, plot_state_city\n",
    "from math import pi"
   ]
  },
  {
   "cell_type": "code",
   "execution_count": 14,
   "metadata": {},
   "outputs": [
    {
     "data": {
      "text/plain": [
       "<qiskit.circuit.instructionset.InstructionSet at 0x7ff7578297f0>"
      ]
     },
     "execution_count": 14,
     "metadata": {},
     "output_type": "execute_result"
    }
   ],
   "source": [
    "# Numbers of registers that will be used in the circuit\n",
    "numbers_of_registers = 3\n",
    "\n",
    "# Create a Quantum Register with 2 qubits.\n",
    "q = QuantumRegister(numbers_of_registers)\n",
    "\n",
    "# Create a Classical Register with 2 bits.\n",
    "c = ClassicalRegister(numbers_of_registers)\n",
    "\n",
    "# Create a Quantum Circuit\n",
    "qc = QuantumCircuit(q, c)\n",
    "\n",
    "# Add a H gate on qubit 0, putting this qubit in superposition (divider).\n",
    "qc.h(q)\n",
    "\n",
    "# Applying oracle\n",
    "qc.h(q[0])\n",
    "qc.ccx(q[2], q[1], q[0])\n",
    "qc.h(q[0])\n",
    "\n",
    "# Applying controlled_u_1\n",
    "qc.z(q[0])\n",
    "\n",
    "# Add a H gate on qubit 0, putting this qubit in superposition (combiner).\n",
    "qc.h(q[0])\n",
    "\n",
    "# Add a Measure gate to see the state.\n",
    "qc.measure(q, c)"
   ]
  },
  {
   "cell_type": "code",
   "execution_count": 21,
   "metadata": {},
   "outputs": [],
   "source": [
    "# See a list of available local simulators\n",
    "# print(\"Aer backends: \", Aer.backends())\n",
    "\n",
    "# Compile and run the Quantum circuit on a simulator backend\n",
    "backend_sim = Aer.get_backend('qasm_simulator')\n",
    "job_sim = execute(qc, backend_sim)\n",
    "result_sim = job_sim.result()"
   ]
  },
  {
   "cell_type": "code",
   "execution_count": 22,
   "metadata": {},
   "outputs": [
    {
     "name": "stdout",
     "output_type": "stream",
     "text": [
      "Simulation status:  COMPLETED\n",
      "get_counts\n",
      "{'101': 270, '011': 243, '001': 244, '110': 267}\n"
     ]
    }
   ],
   "source": [
    "# Show the results\n",
    "print(\"Simulation status: \", result_sim.status)\n",
    "# print(result_sim.get_counts(qc))\n",
    "print(\"get_counts\")\n",
    "print(result_sim.get_counts())"
   ]
  },
  {
   "cell_type": "code",
   "execution_count": 23,
   "metadata": {},
   "outputs": [
    {
     "data": {
      "image/png": "[encoded data removed]",
      "text/plain": [
       "<Figure size 504x360 with 1 Axes>"
      ]
     },
     "execution_count": 23,
     "metadata": {},
     "output_type": "execute_result"
    }
   ],
   "source": [
    "# Plot graph\n",
    "plot_histogram(result_sim.get_counts(), title='')"
   ]
  },
  {
   "cell_type": "code",
   "execution_count": null,
   "metadata": {},
   "outputs": [],
   "source": []
  }
 ],
 "metadata": {
  "kernelspec": {
   "display_name": "Python 3",
   "language": "python",
   "name": "python3"
  },
  "language_info": {
   "codemirror_mode": {
    "name": "ipython",
    "version": 3
   },
   "file_extension": ".py",
   "mimetype": "text/x-python",
   "name": "python",
   "nbconvert_exporter": "python",
   "pygments_lexer": "ipython3",
   "version": "3.7.3"
  }
 },
 "nbformat": 4,
 "nbformat_minor": 2
}
